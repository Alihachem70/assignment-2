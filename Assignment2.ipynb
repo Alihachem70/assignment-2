{
 "cells": [
  {
   "cell_type": "code",
   "execution_count": 7,
   "id": "ee7d4d0e-bc45-4cf3-a54e-2aad1851794a",
   "metadata": {},
   "outputs": [
    {
     "name": "stdin",
     "output_type": "stream",
     "text": [
      "Enter the first integer:  100\n",
      "Enter the second integer:  10\n"
     ]
    },
    {
     "name": "stdout",
     "output_type": "stream",
     "text": [
      "54\n",
      "76\n",
      "98\n",
      "100\n"
     ]
    }
   ],
   "source": [
    "\n",
    "list1 = [54, 76, 2, 4, 98, 100]\n",
    "int1 = int(input(\"Enter the first integer: \"))\n",
    "int2 = int(input(\"Enter the second integer: \"))\n",
    "if int1 > int2:\n",
    "    int1, int2 = int2, int1\n",
    "for value in list1:\n",
    "    if int1 <= value <= int2:\n",
    "        print(value)\n"
   ]
  },
  {
   "cell_type": "code",
   "execution_count": 8,
   "id": "6cd73abb-d38d-4e52-95e3-d1f5b645f1d6",
   "metadata": {},
   "outputs": [
    {
     "name": "stdin",
     "output_type": "stream",
     "text": [
      "Enter a letter (or 'exit' to quit):  a\n"
     ]
    },
    {
     "name": "stdout",
     "output_type": "stream",
     "text": [
      "Maria\n",
      "Hala\n",
      "Ghady\n",
      "Ehsan\n"
     ]
    },
    {
     "name": "stdin",
     "output_type": "stream",
     "text": [
      "Enter a letter (or 'exit' to quit):  F\n"
     ]
    },
    {
     "name": "stdout",
     "output_type": "stream",
     "text": [
      "No names found containing that letter.\n"
     ]
    },
    {
     "name": "stdin",
     "output_type": "stream",
     "text": [
      "Enter a letter (or 'exit' to quit):  h\n"
     ]
    },
    {
     "name": "stdout",
     "output_type": "stream",
     "text": [
      "Ghady\n",
      "Ehsan\n"
     ]
    },
    {
     "name": "stdin",
     "output_type": "stream",
     "text": [
      "Enter a letter (or 'exit' to quit):  G\n"
     ]
    },
    {
     "name": "stdout",
     "output_type": "stream",
     "text": [
      "Ghady\n"
     ]
    },
    {
     "name": "stdin",
     "output_type": "stream",
     "text": [
      "Enter a letter (or 'exit' to quit):  exit\n"
     ]
    }
   ],
   "source": [
    "\n",
    "\n",
    "names = [\"Maria\", \"Hala\", \"Ghady\", \"Ehsan\", \"Joe\", \"Zoe\"]\n",
    "while True:\n",
    "    letter = input(\"Enter a letter (or 'exit' to quit): \")\n",
    "    if letter == 'exit':\n",
    "        break\n",
    "    found = False\n",
    "    for name in names:\n",
    "        if letter in name: \n",
    "            print(name)\n",
    "            found = True\n",
    "    if not found:\n",
    "        print(\"No names found containing that letter.\")\n"
   ]
  },
  {
   "cell_type": "code",
   "execution_count": 9,
   "id": "b1e26cd1-4fe6-42e7-8e59-e8971987b5e4",
   "metadata": {},
   "outputs": [
    {
     "name": "stdin",
     "output_type": "stream",
     "text": [
      "Enter a number (or -99 to quit):  12\n"
     ]
    },
    {
     "name": "stdout",
     "output_type": "stream",
     "text": [
      "Updated list: [-12, 4, 12, 12, 25, 67]\n"
     ]
    },
    {
     "name": "stdin",
     "output_type": "stream",
     "text": [
      "Enter a number (or -99 to quit):  33\n"
     ]
    },
    {
     "name": "stdout",
     "output_type": "stream",
     "text": [
      "Updated list: [-12, 4, 12, 12, 25, 33, 67]\n"
     ]
    },
    {
     "name": "stdin",
     "output_type": "stream",
     "text": [
      "Enter a number (or -99 to quit):  1\n"
     ]
    },
    {
     "name": "stdout",
     "output_type": "stream",
     "text": [
      "Updated list: [-12, 1, 4, 12, 12, 25, 33, 67]\n"
     ]
    },
    {
     "name": "stdin",
     "output_type": "stream",
     "text": [
      "Enter a number (or -99 to quit):  3\n"
     ]
    },
    {
     "name": "stdout",
     "output_type": "stream",
     "text": [
      "Updated list: [-12, 1, 3, 4, 12, 12, 25, 33, 67]\n"
     ]
    },
    {
     "name": "stdin",
     "output_type": "stream",
     "text": [
      "Enter a number (or -99 to quit):  -99\n"
     ]
    }
   ],
   "source": [
    "\n",
    "numbers = [-12, 4, 12, 25, 67]\n",
    "while True:\n",
    "    user_input = int(input(\"Enter a number (or -99 to quit): \"))\n",
    "    if user_input == -99:\n",
    "        break\n",
    "    numbers.append(user_input) \n",
    "    numbers.sort() \n",
    "    print(\"Updated list:\", numbers)\n"
   ]
  },
  {
   "cell_type": "code",
   "execution_count": 12,
   "id": "0a774dc3-dfa7-4c4d-946c-1ecd23adaee9",
   "metadata": {},
   "outputs": [
    {
     "name": "stdin",
     "output_type": "stream",
     "text": [
      "Enter the first index (0-based):  31\n",
      "Enter the second index (exclusive, 0-based):  41\n"
     ]
    },
    {
     "name": "stdout",
     "output_type": "stream",
     "text": [
      "boy, I need no sympathy Because I'm easy come, easy\n"
     ]
    }
   ],
   "source": [
    "\n",
    "def get_slice_of_words(big_string):\n",
    "    words = big_string.split()  \n",
    "    total_words = len(words)\n",
    "\n",
    "    while True:\n",
    "        try:\n",
    "            int1 = int(input(\"Enter the first index (0-based): \"))\n",
    "            int2 = int(input(\"Enter the second index (exclusive, 0-based): \"))\n",
    "\n",
    "            if int1 < 0 or int2 > total_words or int1 >= int2:\n",
    "                print(f\"Invalid range! Please enter values between 0 and {total_words - 1}, and ensure the first number is less than the second.\")\n",
    "            else:\n",
    "        \n",
    "                print(\" \".join(words[int1:int2]))\n",
    "                break\n",
    "        except ValueError:\n",
    "            print(\"Invalid input! Please enter valid integer values.\")\n",
    "\n",
    "big_string = \"\"\"Is this the real life? Is this just fantasy? Caught in a landslide, no escape from reality\n",
    "Open your eyes, look up to the skies and see\n",
    "I'm just a poor boy, I need no sympathy\n",
    "Because I'm easy come, easy go, little high, little low\n",
    "Any way the wind blows doesn't really matter to me, to me\n",
    "Mama, just killed a man\n",
    "Put a gun against his head, pulled my trigger, now he's dead\n",
    "Mama, life had just begun\n",
    "But now I've gone and thrown it all away\n",
    "Mama, ooh, didn't mean to make you cry\n",
    "If I'm not back again this time tomorrow\n",
    "Carry on, carry on as if nothing really matters\n",
    "Too late, my time has come\n",
    "Sends shivers down my spine, body's aching all the time\n",
    "Goodbye, everybody, I've got to go\n",
    "Gotta leave you all behind and face the truth\n",
    "Mama, ooh (any way the wind blows)\n",
    "I don't wanna die\n",
    "I sometimes wish I'd never been born at all\n",
    "I see a little silhouetto of a man\n",
    "Scaramouche, Scaramouche, will you do the Fandango?\n",
    "Thunderbolt and lightning, very, very frightening me\n",
    "(Galileo) Galileo, (Galileo) Galileo, Galileo Figaro, magnifico\n",
    "But I'm just a poor boy, nobody loves me\n",
    "He's just a poor boy from a poor family\n",
    "Spare him his life from this monstrosity\"\"\"\n",
    "get_slice_of_words(big_string)\n"
   ]
  },
  {
   "cell_type": "code",
   "execution_count": null,
   "id": "b57da140-f221-4031-ae84-a8265b33360a",
   "metadata": {},
   "outputs": [],
   "source": []
  }
 ],
 "metadata": {
  "kernelspec": {
   "display_name": "Python 3 (ipykernel)",
   "language": "python",
   "name": "python3"
  },
  "language_info": {
   "codemirror_mode": {
    "name": "ipython",
    "version": 3
   },
   "file_extension": ".py",
   "mimetype": "text/x-python",
   "name": "python",
   "nbconvert_exporter": "python",
   "pygments_lexer": "ipython3",
   "version": "3.11.7"
  }
 },
 "nbformat": 4,
 "nbformat_minor": 5
}
